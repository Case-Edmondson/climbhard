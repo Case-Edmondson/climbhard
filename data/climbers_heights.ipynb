{
 "cells": [
  {
   "cell_type": "code",
   "execution_count": 24,
   "metadata": {},
   "outputs": [],
   "source": [
    "import pandas as pd\n",
    "import numpy as np\n",
    "from matplotlib import pyplot as plt"
   ]
  },
  {
   "cell_type": "code",
   "execution_count": 8,
   "metadata": {},
   "outputs": [
    {
     "data": {
      "text/html": [
       "<div>\n",
       "<style scoped>\n",
       "    .dataframe tbody tr th:only-of-type {\n",
       "        vertical-align: middle;\n",
       "    }\n",
       "\n",
       "    .dataframe tbody tr th {\n",
       "        vertical-align: top;\n",
       "    }\n",
       "\n",
       "    .dataframe thead th {\n",
       "        text-align: right;\n",
       "    }\n",
       "</style>\n",
       "<table border=\"1\" class=\"dataframe\">\n",
       "  <thead>\n",
       "    <tr style=\"text-align: right;\">\n",
       "      <th></th>\n",
       "      <th>Climb</th>\n",
       "      <th>Area</th>\n",
       "      <th>Climber</th>\n",
       "      <th>Date</th>\n",
       "      <th>FrenchGrade</th>\n",
       "      <th>Style</th>\n",
       "      <th>Gender</th>\n",
       "      <th>Year</th>\n",
       "      <th>Grade</th>\n",
       "      <th>OriginalArea</th>\n",
       "      <th>SuggestedGrade</th>\n",
       "      <th>AscentNumber</th>\n",
       "      <th>Notes</th>\n",
       "      <th>SuggestedNumberGrade</th>\n",
       "      <th>AveragedNumberGrade</th>\n",
       "    </tr>\n",
       "  </thead>\n",
       "  <tbody>\n",
       "    <tr>\n",
       "      <th>0</th>\n",
       "      <td>Kemena</td>\n",
       "      <td>12590 Almenara, Spain</td>\n",
       "      <td>Rubén Díaz Torres</td>\n",
       "      <td>2013-02-09 00:00:00</td>\n",
       "      <td>8C</td>\n",
       "      <td>Boulder Problem</td>\n",
       "      <td>M</td>\n",
       "      <td>2013</td>\n",
       "      <td>V15</td>\n",
       "      <td>Almenara</td>\n",
       "      <td>8C</td>\n",
       "      <td>1</td>\n",
       "      <td>NaN</td>\n",
       "      <td>15.0</td>\n",
       "      <td>15</td>\n",
       "    </tr>\n",
       "    <tr>\n",
       "      <th>1</th>\n",
       "      <td>Kemena</td>\n",
       "      <td>12590 Almenara, Spain</td>\n",
       "      <td>Ignacio Sánchez González</td>\n",
       "      <td>2013-11-01 00:00:00</td>\n",
       "      <td>8C</td>\n",
       "      <td>Boulder Problem</td>\n",
       "      <td>M</td>\n",
       "      <td>2013</td>\n",
       "      <td>V15</td>\n",
       "      <td>Almenara</td>\n",
       "      <td>8B+</td>\n",
       "      <td>2</td>\n",
       "      <td>NaN</td>\n",
       "      <td>14.0</td>\n",
       "      <td>15</td>\n",
       "    </tr>\n",
       "    <tr>\n",
       "      <th>2</th>\n",
       "      <td>Hurricane</td>\n",
       "      <td>5505 Mühlbach am Hochkönig</td>\n",
       "      <td>Bernhard Schwaiger</td>\n",
       "      <td>2009-06-14 00:00:00</td>\n",
       "      <td>8C+</td>\n",
       "      <td>Boulder Problem</td>\n",
       "      <td>M</td>\n",
       "      <td>2009</td>\n",
       "      <td>V16</td>\n",
       "      <td>Birgkar</td>\n",
       "      <td>8C/8C+</td>\n",
       "      <td>1</td>\n",
       "      <td>8C/(8C+)</td>\n",
       "      <td>15.5</td>\n",
       "      <td>16</td>\n",
       "    </tr>\n",
       "    <tr>\n",
       "      <th>3</th>\n",
       "      <td>L'Anarchiste</td>\n",
       "      <td>83603 Saint-Anne, France</td>\n",
       "      <td>Philip Moser</td>\n",
       "      <td>2003-03-23 00:00:00</td>\n",
       "      <td>8C</td>\n",
       "      <td>Boulder Problem</td>\n",
       "      <td>M</td>\n",
       "      <td>2003</td>\n",
       "      <td>V15</td>\n",
       "      <td>St. Anne</td>\n",
       "      <td>8C</td>\n",
       "      <td>1</td>\n",
       "      <td>NaN</td>\n",
       "      <td>15.0</td>\n",
       "      <td>15</td>\n",
       "    </tr>\n",
       "    <tr>\n",
       "      <th>4</th>\n",
       "      <td>L'Anarchiste</td>\n",
       "      <td>83603 Saint-Anne, France</td>\n",
       "      <td>Frédéric Tuscan</td>\n",
       "      <td>2004-03-13 00:00:00</td>\n",
       "      <td>8C</td>\n",
       "      <td>Boulder Problem</td>\n",
       "      <td>M</td>\n",
       "      <td>2004</td>\n",
       "      <td>V15</td>\n",
       "      <td>St. Anne</td>\n",
       "      <td>8C</td>\n",
       "      <td>2</td>\n",
       "      <td>NaN</td>\n",
       "      <td>15.0</td>\n",
       "      <td>15</td>\n",
       "    </tr>\n",
       "  </tbody>\n",
       "</table>\n",
       "</div>"
      ],
      "text/plain": [
       "          Climb                        Area                   Climber  \\\n",
       "0        Kemena       12590 Almenara, Spain         Rubén Díaz Torres   \n",
       "1        Kemena       12590 Almenara, Spain  Ignacio Sánchez González   \n",
       "2     Hurricane  5505 Mühlbach am Hochkönig        Bernhard Schwaiger   \n",
       "3  L'Anarchiste    83603 Saint-Anne, France              Philip Moser   \n",
       "4  L'Anarchiste    83603 Saint-Anne, France           Frédéric Tuscan   \n",
       "\n",
       "                  Date FrenchGrade            Style Gender  Year Grade  \\\n",
       "0  2013-02-09 00:00:00          8C  Boulder Problem      M  2013   V15   \n",
       "1  2013-11-01 00:00:00          8C  Boulder Problem      M  2013   V15   \n",
       "2  2009-06-14 00:00:00         8C+  Boulder Problem      M  2009   V16   \n",
       "3  2003-03-23 00:00:00          8C  Boulder Problem      M  2003   V15   \n",
       "4  2004-03-13 00:00:00          8C  Boulder Problem      M  2004   V15   \n",
       "\n",
       "  OriginalArea SuggestedGrade  AscentNumber     Notes  SuggestedNumberGrade  \\\n",
       "0     Almenara             8C             1       NaN                  15.0   \n",
       "1     Almenara            8B+             2       NaN                  14.0   \n",
       "2      Birgkar         8C/8C+             1  8C/(8C+)                  15.5   \n",
       "3     St. Anne             8C             1       NaN                  15.0   \n",
       "4     St. Anne             8C             2       NaN                  15.0   \n",
       "\n",
       "   AveragedNumberGrade  \n",
       "0                   15  \n",
       "1                   15  \n",
       "2                   16  \n",
       "3                   15  \n",
       "4                   15  "
      ]
     },
     "execution_count": 8,
     "metadata": {},
     "output_type": "execute_result"
    }
   ],
   "source": [
    "climbers = pd.read_excel('climbingdata.xlsx', sheet_name = 'Climbers')\n",
    "climbs = pd.read_excel('climbingdata.xlsx', sheet_name = 'All_Ascents')\n",
    "climbs.head()"
   ]
  },
  {
   "cell_type": "code",
   "execution_count": 21,
   "metadata": {},
   "outputs": [],
   "source": [
    "ascents = dict(climbs.Climber.value_counts())\n",
    "def lookup(name):\n",
    "    try:\n",
    "        return ascents[name]\n",
    "    except:\n",
    "        return np.nan\n",
    "climbers['ascents'] = climbers['Climber'].map(lookup)"
   ]
  },
  {
   "cell_type": "code",
   "execution_count": 26,
   "metadata": {},
   "outputs": [
    {
     "data": {
      "text/plain": [
       "<matplotlib.collections.PathCollection at 0x21d3446e400>"
      ]
     },
     "execution_count": 26,
     "metadata": {},
     "output_type": "execute_result"
    },
    {
     "data": {
      "image/png": "[encoded data removed]",
      "text/plain": [
       "<Figure size 432x288 with 1 Axes>"
      ]
     },
     "metadata": {
      "needs_background": "light"
     },
     "output_type": "display_data"
    }
   ],
   "source": [
    "plt.scatter(climbers.Height, climbers.ascents)"
   ]
  },
  {
   "cell_type": "code",
   "execution_count": 30,
   "metadata": {},
   "outputs": [
    {
     "data": {
      "text/plain": [
       "count    147.000000\n",
       "mean     174.904762\n",
       "std        6.836980\n",
       "min      154.000000\n",
       "25%      170.000000\n",
       "50%      175.000000\n",
       "75%      180.000000\n",
       "max      193.000000\n",
       "Name: Height, dtype: float64"
      ]
     },
     "execution_count": 30,
     "metadata": {},
     "output_type": "execute_result"
    }
   ],
   "source": [
    "climbers.Height.describe()"
   ]
  },
  {
   "cell_type": "code",
   "execution_count": 42,
   "metadata": {},
   "outputs": [
    {
     "data": {
      "text/plain": [
       "(array([ 2.,  0.,  2.,  1.,  2.,  4.,  5., 10., 17., 22., 13., 14., 17.,\n",
       "        15.,  9.,  5.,  3.,  4.,  1.,  1.]),\n",
       " array([154.  , 155.95, 157.9 , 159.85, 161.8 , 163.75, 165.7 , 167.65,\n",
       "        169.6 , 171.55, 173.5 , 175.45, 177.4 , 179.35, 181.3 , 183.25,\n",
       "        185.2 , 187.15, 189.1 , 191.05, 193.  ]),\n",
       " <a list of 20 Patch objects>)"
      ]
     },
     "execution_count": 42,
     "metadata": {},
     "output_type": "execute_result"
    },
    {
     "data": {
      "image/png": "[encoded data removed]",
      "text/plain": [
       "<Figure size 432x288 with 1 Axes>"
      ]
     },
     "metadata": {
      "needs_background": "light"
     },
     "output_type": "display_data"
    }
   ],
   "source": [
    "plt.hist(climbers.Height, bins =20)"
   ]
  },
  {
   "cell_type": "code",
   "execution_count": 46,
   "metadata": {},
   "outputs": [
    {
     "data": {
      "text/html": [
       "<div>\n",
       "<style scoped>\n",
       "    .dataframe tbody tr th:only-of-type {\n",
       "        vertical-align: middle;\n",
       "    }\n",
       "\n",
       "    .dataframe tbody tr th {\n",
       "        vertical-align: top;\n",
       "    }\n",
       "\n",
       "    .dataframe thead th {\n",
       "        text-align: right;\n",
       "    }\n",
       "</style>\n",
       "<table border=\"1\" class=\"dataframe\">\n",
       "  <thead>\n",
       "    <tr style=\"text-align: right;\">\n",
       "      <th></th>\n",
       "      <th>Climber</th>\n",
       "      <th>Sex</th>\n",
       "      <th>Dob</th>\n",
       "      <th>Height</th>\n",
       "      <th>ascents</th>\n",
       "    </tr>\n",
       "  </thead>\n",
       "  <tbody>\n",
       "    <tr>\n",
       "      <th>3</th>\n",
       "      <td>Alban Levier</td>\n",
       "      <td>M</td>\n",
       "      <td>1994-06-28 00:00:00</td>\n",
       "      <td>170.0</td>\n",
       "      <td>3.0</td>\n",
       "    </tr>\n",
       "    <tr>\n",
       "      <th>20</th>\n",
       "      <td>Benjamin Blaser</td>\n",
       "      <td>M</td>\n",
       "      <td>1990-06-10 00:00:00</td>\n",
       "      <td>170.0</td>\n",
       "      <td>NaN</td>\n",
       "    </tr>\n",
       "    <tr>\n",
       "      <th>26</th>\n",
       "      <td>Carlo Traversi</td>\n",
       "      <td>M</td>\n",
       "      <td>1988-06-05 00:00:00</td>\n",
       "      <td>170.0</td>\n",
       "      <td>7.0</td>\n",
       "    </tr>\n",
       "    <tr>\n",
       "      <th>32</th>\n",
       "      <td>Christof Rauch</td>\n",
       "      <td>M</td>\n",
       "      <td>1994-05-13 00:00:00</td>\n",
       "      <td>170.0</td>\n",
       "      <td>14.0</td>\n",
       "    </tr>\n",
       "    <tr>\n",
       "      <th>36</th>\n",
       "      <td>Clément Lechaptois</td>\n",
       "      <td>M</td>\n",
       "      <td>1993-04-12 00:00:00</td>\n",
       "      <td>170.0</td>\n",
       "      <td>1.0</td>\n",
       "    </tr>\n",
       "    <tr>\n",
       "      <th>41</th>\n",
       "      <td>Daniel Woods</td>\n",
       "      <td>M</td>\n",
       "      <td>1989-08-01 00:00:00</td>\n",
       "      <td>170.0</td>\n",
       "      <td>41.0</td>\n",
       "    </tr>\n",
       "    <tr>\n",
       "      <th>58</th>\n",
       "      <td>Fabian Christof</td>\n",
       "      <td>M</td>\n",
       "      <td>1979-03-04 00:00:00</td>\n",
       "      <td>170.0</td>\n",
       "      <td>1.0</td>\n",
       "    </tr>\n",
       "    <tr>\n",
       "      <th>70</th>\n",
       "      <td>Gabriele Moroni</td>\n",
       "      <td>M</td>\n",
       "      <td>1987-09-20 00:00:00</td>\n",
       "      <td>170.0</td>\n",
       "      <td>6.0</td>\n",
       "    </tr>\n",
       "    <tr>\n",
       "      <th>79</th>\n",
       "      <td>Ignacio Sánchez González</td>\n",
       "      <td>M</td>\n",
       "      <td>1984-05-08 00:00:00</td>\n",
       "      <td>170.0</td>\n",
       "      <td>8.0</td>\n",
       "    </tr>\n",
       "    <tr>\n",
       "      <th>97</th>\n",
       "      <td>Jon Cardwell</td>\n",
       "      <td>M</td>\n",
       "      <td>1989-03-12 00:00:00</td>\n",
       "      <td>170.0</td>\n",
       "      <td>6.0</td>\n",
       "    </tr>\n",
       "    <tr>\n",
       "      <th>141</th>\n",
       "      <td>Michael O'Rourke</td>\n",
       "      <td>M</td>\n",
       "      <td>1994-07-04 00:00:00</td>\n",
       "      <td>170.0</td>\n",
       "      <td>NaN</td>\n",
       "    </tr>\n",
       "    <tr>\n",
       "      <th>165</th>\n",
       "      <td>Rei Kawamata</td>\n",
       "      <td>M</td>\n",
       "      <td>2003-08-06 00:00:00</td>\n",
       "      <td>170.0</td>\n",
       "      <td>NaN</td>\n",
       "    </tr>\n",
       "    <tr>\n",
       "      <th>191</th>\n",
       "      <td>Stefano Ghisolfi</td>\n",
       "      <td>M</td>\n",
       "      <td>1993-02-18 00:00:00</td>\n",
       "      <td>170.0</td>\n",
       "      <td>15.0</td>\n",
       "    </tr>\n",
       "    <tr>\n",
       "      <th>199</th>\n",
       "      <td>Timmy Fairfield</td>\n",
       "      <td>M</td>\n",
       "      <td>1969-07-24 00:00:00</td>\n",
       "      <td>170.0</td>\n",
       "      <td>NaN</td>\n",
       "    </tr>\n",
       "  </tbody>\n",
       "</table>\n",
       "</div>"
      ],
      "text/plain": [
       "                      Climber Sex                  Dob  Height  ascents\n",
       "3                Alban Levier   M  1994-06-28 00:00:00   170.0      3.0\n",
       "20            Benjamin Blaser   M  1990-06-10 00:00:00   170.0      NaN\n",
       "26             Carlo Traversi   M  1988-06-05 00:00:00   170.0      7.0\n",
       "32             Christof Rauch   M  1994-05-13 00:00:00   170.0     14.0\n",
       "36         Clément Lechaptois   M  1993-04-12 00:00:00   170.0      1.0\n",
       "41               Daniel Woods   M  1989-08-01 00:00:00   170.0     41.0\n",
       "58            Fabian Christof   M  1979-03-04 00:00:00   170.0      1.0\n",
       "70            Gabriele Moroni   M  1987-09-20 00:00:00   170.0      6.0\n",
       "79   Ignacio Sánchez González   M  1984-05-08 00:00:00   170.0      8.0\n",
       "97               Jon Cardwell   M  1989-03-12 00:00:00   170.0      6.0\n",
       "141          Michael O'Rourke   M  1994-07-04 00:00:00   170.0      NaN\n",
       "165              Rei Kawamata   M  2003-08-06 00:00:00   170.0      NaN\n",
       "191          Stefano Ghisolfi   M  1993-02-18 00:00:00   170.0     15.0\n",
       "199           Timmy Fairfield   M  1969-07-24 00:00:00   170.0      NaN"
      ]
     },
     "execution_count": 46,
     "metadata": {},
     "output_type": "execute_result"
    }
   ],
   "source": [
    "climbers[climbers.Height == 170]"
   ]
  },
  {
   "cell_type": "code",
   "execution_count": null,
   "metadata": {},
   "outputs": [],
   "source": []
  }
 ],
 "metadata": {
  "kernelspec": {
   "display_name": "Python 3",
   "language": "python",
   "name": "python3"
  },
  "language_info": {
   "codemirror_mode": {
    "name": "ipython",
    "version": 3
   },
   "file_extension": ".py",
   "mimetype": "text/x-python",
   "name": "python",
   "nbconvert_exporter": "python",
   "pygments_lexer": "ipython3",
   "version": "3.7.1rc1"
  }
 },
 "nbformat": 4,
 "nbformat_minor": 2
}
